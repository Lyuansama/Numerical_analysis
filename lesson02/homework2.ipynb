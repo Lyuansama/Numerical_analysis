{
 "cells": [
  {
   "cell_type": "markdown",
   "metadata": {},
   "source": [
    "# CH2 非线性方程的求解\n",
    "\n",
    "> 236527 邵毅\n",
    "> \n",
    "> 题目选择 Steffensen 加速的数值研究"
   ]
  },
  {
   "cell_type": "markdown",
   "metadata": {},
   "source": [
    "## 题目\n",
    "\n",
    "---\n",
    "\n",
    "![题目](./QQ图片20231103202921.jpg)"
   ]
  },
  {
   "cell_type": "markdown",
   "metadata": {},
   "source": [
    "## 导入库文件\n",
    "---\n",
    "\n",
    "此处导入本次实验中所需的所有库"
   ]
  },
  {
   "cell_type": "code",
   "execution_count": 2,
   "metadata": {},
   "outputs": [],
   "source": [
    "import math as m\n",
    "import numpy as np\n",
    "import matplotlib.pyplot as plt"
   ]
  },
  {
   "cell_type": "markdown",
   "metadata": {},
   "source": [
    "## 通用算法\n",
    "---\n",
    "\n",
    "\n",
    "由于本次实验中需要多次用到不动点迭代法和 Steffensen 加速法，因此此处定义这两个函数的通用算法。"
   ]
  },
  {
   "cell_type": "markdown",
   "metadata": {},
   "source": [
    "### 不动点迭代法\n",
    "\n",
    "此处为不动点迭代法的通用实现。其中，`f` 为迭代函数，`x0` 为初始值，`error` 为误差限，`max_iter` 为最大迭代次数。"
   ]
  },
  {
   "cell_type": "code",
   "execution_count": 3,
   "metadata": {},
   "outputs": [],
   "source": [
    "def fixed_point_iteration(f, x0, error=1e-12, max_iterations = 100):\n",
    "    '''\n",
    "    Fixed point iteration for finding a fixed point of a function.\n",
    "    :param f: function\n",
    "    :param x0: initial guess\n",
    "    :param error: error tolerance\n",
    "    :param max_iterations: maximum number of iterations\n",
    "    '''\n",
    "    for i in range(max_iterations):\n",
    "        x1 = f(x0)\n",
    "        if abs(x1 - x0) < error:\n",
    "            return i+1, x1\n",
    "        else:\n",
    "            x0 = x1\n",
    "\n",
    "    raise ValueError(f\"Method failed after {max_iterations} iterations\")"
   ]
  },
  {
   "cell_type": "markdown",
   "metadata": {},
   "source": [
    "### Steffensen 加速法\n",
    "\n",
    "Steffesen 加速法的迭代公式为：\n",
    "\n",
    "$$\n",
    "x_{k+1} = x_k - \\frac{[\\phi(x_k)-x_k]^2}{\\phi[\\phi(x_k)] - 2\\phi(x_k) + x_k}\n",
    "$$\n",
    "\n",
    "Steffensen 加速法的通用实现如下所示。其中，`f` 为迭代函数，`x0` 为初始值，`error` 为误差限，`max_iter` 为最大迭代次数。"
   ]
  },
  {
   "cell_type": "code",
   "execution_count": 4,
   "metadata": {},
   "outputs": [],
   "source": [
    "def steffensen(f, x0, error=1e-12, max_iterations = 100):\n",
    "    '''\n",
    "    Steffensen's method for finding a fixed point of a function.\n",
    "    :param f: function\n",
    "    :param x0: initial guess\n",
    "    :param error: error tolerance\n",
    "    :param max_iterations: maximum number of iterations\n",
    "    '''\n",
    "    for i in range(max_iterations):\n",
    "        y1 = f(x0)\n",
    "        y2 = f(y1)\n",
    "        try:\n",
    "            x1 = x0 - (y1 - x0) ** 2 / (y2 - 2 * y1 + x0)\n",
    "        except ZeroDivisionError:\n",
    "            print(\"Division by zero!\")\n",
    "            return i+1, x0\n",
    "        if abs(x1 - x0) < error:\n",
    "            return i+1, x1\n",
    "        else:\n",
    "            x0 = x1\n",
    "\n",
    "    raise ValueError(f\"Method failed after {max_iterations} iterations\")"
   ]
  },
  {
   "cell_type": "markdown",
   "metadata": {},
   "source": [
    "## 问题 1\n",
    "---\n",
    "\n",
    "\n",
    "### 问题描述\n",
    "\n",
    "求解方程 $x^3 - x - 1 = 0$，为该方程设计至少两种迭代格式，要求线性收敛格式和发散格式至少一个，并分别用不动点迭代法和 Steffensen 加速法求解。\n",
    "\n",
    "### 问题分析\n",
    "\n",
    "首先，通过分析，该方程的解在 $[1, 2]$ 中。为该方程设计以下三种迭代格式：\n",
    "\n",
    "$$\n",
    "x_{k+1} = x_k^3 - 1 \\tag{1}\n",
    "$$\n",
    "\n",
    "$$\n",
    "x_{k+1} = \\sqrt[3]{x_k + 1} \\tag{2}\n",
    "$$\n",
    "\n",
    "$$\n",
    "x_{k+1} = \\sqrt{1+\\frac{1}{x_{k+1}}} \\tag{3}\n",
    "$$\n",
    "\n",
    "易证得，式 (1) 为发散格式，式 (2) 和式 (3) 为线性收敛格式。将其用函数实现，作为不动点迭代法和 Steffensen 加速法的迭代函数。代码如下：\n"
   ]
  },
  {
   "cell_type": "code",
   "execution_count": 5,
   "metadata": {},
   "outputs": [],
   "source": [
    "def phi1(x):\n",
    "    return x ** 3 - 1\n",
    "\n",
    "\n",
    "def phi2(x):\n",
    "    return (x + 1) ** (1 / 3)\n",
    "\n",
    "\n",
    "def phi3(x):\n",
    "    return (1 + 1 / x) ** (1 / 2)"
   ]
  },
  {
   "cell_type": "markdown",
   "metadata": {},
   "source": [
    "### 问题求解\n",
    "\n",
    "#### 不动点迭代法\n",
    "\n",
    "首先，使用不动点迭代法求解。代码如下："
   ]
  },
  {
   "cell_type": "code",
   "execution_count": 6,
   "metadata": {},
   "outputs": [
    {
     "name": "stdout",
     "output_type": "stream",
     "text": [
      "Fixed point iteration:\n",
      "\n",
      "phi = phi2, x0 = 1\n",
      "Number of iterations: 17, x = 1.3247179572445578\n",
      "\n",
      "phi = phi2, x0 = 2\n",
      "Number of iterations: 18, x = 1.324717957244809\n",
      "\n",
      "phi = phi3, x0 = 1\n",
      "Number of iterations: 19, x = 1.3247179572448287\n",
      "\n",
      "phi = phi3, x0 = 2\n",
      "Number of iterations: 19, x = 1.3247179572446433\n",
      "\n"
     ]
    }
   ],
   "source": [
    "x0_list = [1, 2]\n",
    "phi_list = [phi2, phi3]  # phi1 is not a contraction mapping\n",
    "\n",
    "print(\"Fixed point iteration:\")\n",
    "print()\n",
    "for phi in phi_list:\n",
    "    for x0 in x0_list:\n",
    "        print(f\"phi = {phi.__name__}, x0 = {x0}\")\n",
    "        i, x = fixed_point_iteration(phi, x0)\n",
    "        print(f\"Number of iterations: {i}, x = {x}\")\n",
    "        print()"
   ]
  },
  {
   "cell_type": "markdown",
   "metadata": {},
   "source": [
    "#### Steffensen 加速法\n",
    "\n",
    "然后，使用 Steffensen 加速法求解。代码如下："
   ]
  },
  {
   "cell_type": "code",
   "execution_count": 7,
   "metadata": {},
   "outputs": [
    {
     "name": "stdout",
     "output_type": "stream",
     "text": [
      "Steffensen's method:\n",
      "\n",
      "phi = phi1, x0 = 1\n",
      "Division by zero!\n",
      "Number of iterations: 1, x = 1\n",
      "\n",
      "phi = phi1, x0 = 2\n",
      "Number of iterations: 13, x = 1.324717957244746\n",
      "\n",
      "phi = phi2, x0 = 1\n",
      "Division by zero!\n",
      "Number of iterations: 4, x = 1.324717957244746\n",
      "\n",
      "phi = phi2, x0 = 2\n",
      "Division by zero!\n",
      "Number of iterations: 4, x = 1.324717957244746\n",
      "\n",
      "phi = phi3, x0 = 1\n",
      "Number of iterations: 4, x = 1.324717957244746\n",
      "\n",
      "phi = phi3, x0 = 2\n",
      "Number of iterations: 4, x = 1.324717957244746\n",
      "\n"
     ]
    }
   ],
   "source": [
    "x0_list = [1, 2]\n",
    "phi_list = [phi1, phi2, phi3]  # phi1 is not a contraction mapping\n",
    "\n",
    "print(\"Steffensen's method:\")\n",
    "print()\n",
    "for phi in phi_list:\n",
    "    for x0 in x0_list:\n",
    "        print(f\"phi = {phi.__name__}, x0 = {x0}\")\n",
    "        i, x = steffensen(phi, x0)\n",
    "        print(f\"Number of iterations: {i}, x = {x}\")\n",
    "        print()"
   ]
  },
  {
   "cell_type": "markdown",
   "metadata": {},
   "source": [
    "### 结果分析\n",
    "\n",
    "#### 不动点迭代法\n",
    "\n",
    "两种线性收敛的迭代格式都在 20 次迭代内收敛到了 1.324717957245。由于迭代格式 $(1)$ 不收敛，不动点迭代法无法求解。\n",
    "\n",
    "#### Steffensen 加速法\n",
    "\n",
    "Steffensen 加速法在采用迭代格式 $(2)$ 和迭代格式 $(3)$ 时，在 5 次迭代内收敛到了 1.324717957245。\n",
    "\n",
    "对于发散的迭代格式 $(1)$，在初始值为 2 时，经过 13 次迭代，也可以求得准确的结果。收敛速度与不动点迭代法相近。\n",
    "\n",
    "可以看出，Steffensen 加速法的收敛速度要比不动点迭代法快得多，且对于迭代格式和初始值的要求更低。\n"
   ]
  },
  {
   "cell_type": "markdown",
   "metadata": {},
   "source": [
    "## 问题 2\n",
    "---\n",
    "\n",
    "### 问题描述\n",
    "\n",
    "1. 给定方程 $3x^2-e^x=0$，分析其有根区间，取迭代格式 $x_{k+1} = \\ln{x_k^2} + \\ln3$，选取初值为 $x_0 = 3.5, 1, -0.5$ ，对比不动点迭代法和 Steffensen 加速法的结果。\n",
    "\n",
    "2. 设计更多的格式，选取更多的初值，重复前面的操作\n",
    "\n",
    "### 问题分析\n",
    "\n",
    "首先，令 $f(x)=3x^2-e^x$。利用图解法，依次分析 $f''(x)$ 、 $f'(x)$ 和 $f(x)$ 的图像，可得 $f(x)=0$ 在 $[-1, 0]$，$[0, 1]$， $[3, 4]$ 内各有一唯一解。"
   ]
  },
  {
   "cell_type": "code",
   "execution_count": 8,
   "metadata": {},
   "outputs": [
    {
     "data": {
      "image/png": "[encoded data removed]",
      "text/plain": [
       "<Figure size 640x480 with 3 Axes>"
      ]
     },
     "metadata": {},
     "output_type": "display_data"
    }
   ],
   "source": [
    "def f(x):\n",
    "    return 3 * x ** 2 - np.exp(x)\n",
    "\n",
    "\n",
    "def df(x):\n",
    "    return 6 * x - np.exp(x)\n",
    "\n",
    "\n",
    "def ddf(x):\n",
    "    return 6 - np.exp(x)\n",
    "\n",
    "# 画图\n",
    "f_list = [ddf, df, f]\n",
    "for i in range(3):\n",
    "    x = np.linspace(start=-2, stop=4)\n",
    "    y = f_list[i](x)\n",
    "    plt.subplot(1, 3, i+1)\n",
    "    # 标红 y=0 的线\n",
    "    plt.axhline(y=0, color='r', linestyle='-')\n",
    "    plt.plot(x, y)\n",
    "    plt.grid()\n",
    "    # 使得长宽一致，图像更加美观\n",
    "    plt.gca().set_aspect('auto', adjustable='datalim')\n",
    "    plt.title(f_list[i].__name__)\n",
    "plt.subplots_adjust(wspace=0.5, hspace=0.5, left=0.1, right=0.9, top=0.9, bottom=0.1)\n",
    "plt.show()"
   ]
  },
  {
   "cell_type": "markdown",
   "metadata": {},
   "source": [
    "### 问题 2.1 求解\n",
    "\n",
    "类似于问题 1，首先，使用不动点迭代法和 Steffensen 加速法求解。代码如下："
   ]
  },
  {
   "cell_type": "code",
   "execution_count": 9,
   "metadata": {},
   "outputs": [],
   "source": [
    "def phi4(x):\n",
    "    return m.log(x ** 2) + m.log(3)"
   ]
  },
  {
   "cell_type": "code",
   "execution_count": 10,
   "metadata": {},
   "outputs": [
    {
     "name": "stdout",
     "output_type": "stream",
     "text": [
      "Fixed point iteration:\n",
      "\n",
      "phi = phi4, x0 = 3.5\n",
      "Number of iterations: 42, x = 3.7330790286317805\n",
      "\n",
      "phi = phi4, x0 = 1\n",
      "Number of iterations: 51, x = 3.7330790286321687\n",
      "\n",
      "phi = phi4, x0 = -0.5\n",
      "Number of iterations: 50, x = 3.7330790286318694\n",
      "\n",
      "----------------------------------------\n",
      "Steffensen's method:\n",
      "\n",
      "phi = phi4, x0 = 3.5\n",
      "Number of iterations: 4, x = 3.733079028632815\n",
      "\n",
      "phi = phi4, x0 = 1\n",
      "Division by zero!\n",
      "Number of iterations: 6, x = 0.910007572488709\n",
      "\n",
      "phi = phi4, x0 = -0.5\n",
      "Number of iterations: 5, x = -0.4589622675369485\n",
      "\n"
     ]
    }
   ],
   "source": [
    "x0_list = [3.5, 1, -0.5]\n",
    "phi_list = [phi4]\n",
    "\n",
    "print(\"Fixed point iteration:\")\n",
    "print()\n",
    "for phi in phi_list:\n",
    "    for x0 in x0_list:\n",
    "        print(f\"phi = {phi.__name__}, x0 = {x0}\")\n",
    "        i, x = fixed_point_iteration(phi, x0)\n",
    "        print(f\"Number of iterations: {i}, x = {x}\")\n",
    "        print()\n",
    "print(\"----------------------------------------\")\n",
    "print(\"Steffensen's method:\")\n",
    "print()\n",
    "for phi in phi_list:\n",
    "    for x0 in x0_list:\n",
    "        print(f\"phi = {phi.__name__}, x0 = {x0}\")\n",
    "        i, x = steffensen(phi, x0)\n",
    "        print(f\"Number of iterations: {i}, x = {x}\")\n",
    "        print()"
   ]
  },
  {
   "cell_type": "markdown",
   "metadata": {},
   "source": [
    "### 问题 2.1 结果分析\n",
    "\n",
    "#### 不动点迭代法\n",
    "\n",
    "无论使用哪个初始值，不动点迭代法都在 50 次左右的迭代收敛到了 3.733079028632。这是由于该格式仅在 $[3,4]$ 上收敛，而在 $[-1, 0]$ 和 $[0, 1]$ 上发散。、\n",
    "\n",
    "#### Steffensen 加速法\n",
    "\n",
    "Steffensen 加速法都在 10 次迭代以内，收敛到了对应区间内的解。可见相较于不动点迭代法， Steffensen 加速法的收敛速度要比不动点迭代法快得多，且对于迭代格式和初始值的要求更低。"
   ]
  },
  {
   "cell_type": "markdown",
   "metadata": {},
   "source": [
    "### 问题 2.2 求解\n",
    "\n",
    "问题 2.1 提供为 $f(x)=0$ 提供了一种迭代格式\n",
    "$$\n",
    "x_{k+1} = \\ln{x_k^2} + \\ln3 \\tag{4}\n",
    "$$\n",
    "为该方程设计以下两种额外的迭代格式：\n",
    "$$\n",
    "x_{k+1} = \\sqrt{\\frac{e^{x_k}}{3}} \\tag{5}\n",
    "$$\n",
    "$$\n",
    "x_{k+1} = \\frac{e^{x_k}}{3x_k} \\tag{6}\n",
    "$$\n",
    "选取 $x_0 = -1, -0.5, -0.1, 0.1, 0.5, 1, 2, 3.5$ 作为初始值，分别对问题 2.1 中提供的迭代格式和额外的迭代格式进行求解。"
   ]
  },
  {
   "cell_type": "code",
   "execution_count": 11,
   "metadata": {},
   "outputs": [],
   "source": [
    "def phi5(x):\n",
    "    return (m.exp(x) / 3) ** (1 / 2)\n",
    "\n",
    "\n",
    "def phi6(x):\n",
    "    if x == 0:\n",
    "        print(\"Division by zero!\")\n",
    "        return 0\n",
    "    return m.exp(x) / (3 * x)"
   ]
  },
  {
   "cell_type": "code",
   "execution_count": 18,
   "metadata": {},
   "outputs": [
    {
     "name": "stdout",
     "output_type": "stream",
     "text": [
      "Fixed point iteration:\n",
      "\n",
      "phi = phi4\n",
      "x0 =   -1, number of iterations: 51, x = 3.7330790286321687\n",
      "x0 = -0.5, number of iterations: 50, x = 3.7330790286318694\n",
      "x0 = -0.1, number of iterations: 43, x = 3.7330790286318116\n",
      "x0 =  0.1, number of iterations: 43, x = 3.7330790286318116\n",
      "x0 =  0.5, number of iterations: 50, x = 3.7330790286318694\n",
      "x0 =    1, number of iterations: 51, x = 3.7330790286321687\n",
      "x0 =    2, number of iterations: 47, x = 3.7330790286321323\n",
      "x0 =  3.5, number of iterations: 42, x = 3.7330790286317805\n",
      "\n",
      "phi = phi5\n",
      "x0 =   -1, number of iterations: 36, x = 0.9100075724882343\n",
      "x0 = -0.5, number of iterations: 36, x = 0.9100075724883031\n",
      "x0 = -0.1, number of iterations: 35, x = 0.9100075724879813\n",
      "x0 =  0.1, number of iterations: 35, x = 0.9100075724880831\n",
      "x0 =  0.5, number of iterations: 34, x = 0.9100075724878983\n",
      "x0 =    1, number of iterations: 33, x = 0.9100075724891954\n",
      "x0 =    2, number of iterations: 37, x = 0.9100075724891628\n",
      "x0 =  3.5, number of iterations: 41, x = 0.9100075724892992\n",
      "\n",
      "phi = phi6\n",
      "Division by zero!\n",
      "x0 =   -1, number of iterations: 8, x = 0\n",
      "Division by zero!\n",
      "x0 = -0.5, number of iterations: 14, x = 0\n",
      "Division by zero!\n",
      "x0 = -0.1, number of iterations: 7, x = 0\n",
      "x0 =  0.1, number of iterations: 19, x = 0.9100075724887167\n",
      "x0 =  0.5, number of iterations: 12, x = 0.9100075724887188\n",
      "x0 =    1, number of iterations: 12, x = 0.9100075724887216\n",
      "x0 =    2, number of iterations: 13, x = 0.9100075724886599\n",
      "x0 =  3.5, number of iterations: 16, x = 0.9100075724887201\n",
      "\n",
      "----------------------------------------\n",
      "Steffensen's method:\n",
      "\n",
      "phi = phi4\n",
      "x0 =   -1, number of iterations: 12, x = 0.9100075724887089\n",
      "x0 = -0.5, number of iterations: 5, x = -0.4589622675369485\n",
      "Division by zero!\n",
      "x0 = -0.1, number of iterations: 9, x = 3.7330790286328153\n",
      "x0 =  0.1, number of iterations: 9, x = 3.7330790286328144\n",
      "x0 =  0.5, number of iterations: 7, x = 3.7330790286328144\n",
      "Division by zero!\n",
      "x0 =    1, number of iterations: 6, x = 0.910007572488709\n",
      "x0 =    2, number of iterations: 6, x = 3.733079028632815\n",
      "x0 =  3.5, number of iterations: 4, x = 3.733079028632815\n",
      "\n",
      "phi = phi5\n",
      "x0 =   -1, number of iterations: 5, x = 0.910007572488709\n",
      "x0 = -0.5, number of iterations: 5, x = 0.9100075724887089\n",
      "x0 = -0.1, number of iterations: 5, x = 0.9100075724887091\n",
      "x0 =  0.1, number of iterations: 5, x = 0.9100075724887091\n",
      "x0 =  0.5, number of iterations: 5, x = 0.9100075724887091\n",
      "x0 =    1, number of iterations: 4, x = 0.9100075724887089\n",
      "Division by zero!\n",
      "x0 =    2, number of iterations: 6, x = 0.9100075724887091\n",
      "x0 =  3.5, number of iterations: 6, x = 3.7330790286328144\n",
      "\n",
      "phi = phi6\n",
      "x0 =   -1, number of iterations: 8, x = -0.4589622675369485\n",
      "x0 = -0.5, number of iterations: 5, x = -0.4589622675369485\n",
      "x0 = -0.1, number of iterations: 11, x = -0.4589622675369485\n",
      "x0 =  0.1, number of iterations: 7, x = 3.733079028632814\n",
      "x0 =  0.5, number of iterations: 5, x = 0.9100075724887091\n",
      "x0 =    1, number of iterations: 4, x = 0.9100075724887091\n",
      "x0 =    2, number of iterations: 5, x = 0.910007572488709\n",
      "x0 =  3.5, number of iterations: 7, x = 3.7330790286328144\n",
      "\n"
     ]
    }
   ],
   "source": [
    "\n",
    "x0_list = [-1, -0.5, -0.1, 0.1, 0.5, 1, 2, 3.5]\n",
    "phi_list = [phi4, phi5, phi6]\n",
    "\n",
    "print(\"Fixed point iteration:\")\n",
    "print()\n",
    "for phi in phi_list:\n",
    "    print(f\"phi = {phi.__name__}\")\n",
    "    for x0 in x0_list:\n",
    "        i, x = fixed_point_iteration(phi, x0)\n",
    "        print(f\"x0 = {x0:4}, number of iterations: {i}, x = {x}\")\n",
    "    print()\n",
    "print(\"----------------------------------------\")\n",
    "print(\"Steffensen's method:\")\n",
    "print()\n",
    "for phi in phi_list:\n",
    "    print(f\"phi = {phi.__name__}\")\n",
    "    for x0 in x0_list:\n",
    "        i, x = steffensen(phi, x0)\n",
    "        print(f\"x0 = {x0:4}, number of iterations: {i}, x = {x}\")\n",
    "    print()\n"
   ]
  },
  {
   "cell_type": "markdown",
   "metadata": {},
   "source": [
    "### 问题 2.2 结果分析\n",
    "\n",
    "#### 不动点迭代法\n",
    "\n",
    "对于迭代格式 $(4)$ ，算法对所有初始值，均在 50 次左右的迭代收敛到了 3.733079028632。这是由于该格式仅在 $[3,4]$ 上收敛，而在 $[-1, 0]$ 和 $[0, 1]$ 上发散。\n",
    "\n",
    "对于迭代格式 $(5)$ ，算法在 30-40 次迭代后，收敛到了 0.910007572488。\n",
    "\n",
    "对于迭代格式 $(6)$ ，当初始值为 -1、-0.5、-0.1 时，无法得出结果，对于其他的初始值，算法在 15-20 次迭代后，收敛到了 0.910007572488。\n",
    "\n",
    "#### Steffensen 加速法\n",
    "\n",
    "使用 Steffensen 加速法时，除了迭代格式 $(5)$ 没有得到方程的全部三个解，其余的迭代格式都在 10 次左右的迭代后，得到了方程的全部三个解。但对于迭代格式 $(4)$ ，初始值选取 -1、-0.1 等值时，未能收敛到对应区间中的解。\n",
    "\n",
    "## 问题 3\n",
    "---\n",
    "\n",
    "通过上述的两个实验，可以看出：\n",
    "\n",
    "1. 相较于不动点迭代法，Steffensen 加速法收敛速度更快。\n",
    "  \n",
    "2. 相较于不动点迭代法，Steffensen 加速法更容易在较大范围上收敛，对 $\\phi(x)$ 的要求比不动点迭代法低。例如实验 2，不动点迭代法对迭代格式的要求较高，在不同区间上需要使用不同迭代格式，才可以求出方程的三个解；而使用 Steffensen 加速法，三种迭代格式中有两种可以直接求得方程的三个解。\n",
    "  \n",
    "3. Steffensen 对初值的选取有一定的要求，如果选取的值不合适，可能无法获取方程所有的解。"
   ]
  }
 ],
 "metadata": {
  "kernelspec": {
   "display_name": "Python 3",
   "language": "python",
   "name": "python3"
  },
  "language_info": {
   "codemirror_mode": {
    "name": "ipython",
    "version": 3
   },
   "file_extension": ".py",
   "mimetype": "text/x-python",
   "name": "python",
   "nbconvert_exporter": "python",
   "pygments_lexer": "ipython3",
   "version": "3.11.4"
  }
 },
 "nbformat": 4,
 "nbformat_minor": 2
}
